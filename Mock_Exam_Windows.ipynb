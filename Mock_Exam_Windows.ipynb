{
 "cells": [
  {
   "cell_type": "markdown",
   "id": "89a9e556",
   "metadata": {},
   "source": [
    "# Mock Programming Exam\n",
    "© Kajetan Knopp 2022"
   ]
  },
  {
   "cell_type": "markdown",
   "id": "8c9def66",
   "metadata": {},
   "source": [
    "Remember to include typehints and docstrings whenever needed.\n",
    "\n",
    "Run this cell before starting:"
   ]
  },
  {
   "cell_type": "code",
   "execution_count": null,
   "id": "21eaecc9",
   "metadata": {},
   "outputs": [],
   "source": [
    "import sys\n",
    "import csv\n",
    "import re\n",
    "import string\n",
    "import random\n",
    "from typing import Any, Dict, Generator, Iterable, List, Set, Tuple\n",
    "sys.setrecursionlimit(30000)"
   ]
  },
  {
   "cell_type": "markdown",
   "id": "0e0d9422",
   "metadata": {},
   "source": [
    "### 1. List comprehensions"
   ]
  },
  {
   "cell_type": "markdown",
   "id": "c12341cc",
   "metadata": {},
   "source": [
    "Write a function that takes in a string and returns that string with each letter (a-z) changed to the next one in the alphabet (so a->b, f->g, etc.). Write at least one test for this function.\n",
    "\n",
    "##### Assumptions:\n",
    "1. All letters are lowercase\n",
    "2. 'z' should be changed to 'a'\n",
    "3. The input string consists of all possible characters (except uppercase letters)"
   ]
  },
  {
   "cell_type": "code",
   "execution_count": null,
   "id": "00175024",
   "metadata": {},
   "outputs": [],
   "source": [
    "# Your code here"
   ]
  },
  {
   "cell_type": "markdown",
   "id": "8402ba68",
   "metadata": {},
   "source": [
    "### 2. OOP (Object-Oriented Programming)"
   ]
  },
  {
   "cell_type": "markdown",
   "id": "c1b2bfa8",
   "metadata": {},
   "source": [
    "You are asked to help out in an online store. It sells several different items, however, the owners want you to take a look at the books they offer. Books are becoming less popular and take up too much space so they want to get rid of some of them! Here's what you need to do:"
   ]
  },
  {
   "cell_type": "markdown",
   "id": "6959c6b0",
   "metadata": {},
   "source": [
    "a) Create a class and call it \"Item\". It will describe the items being sold. Create a class attribute called \"Warehouse\", which can be set to \"Eindhoven\" or \"Tilburg\". Initialize this object with a default \"price\" equal to 10."
   ]
  },
  {
   "cell_type": "code",
   "execution_count": null,
   "id": "87059032",
   "metadata": {},
   "outputs": [],
   "source": [
    "# Your code here"
   ]
  },
  {
   "cell_type": "markdown",
   "id": "519a569c",
   "metadata": {},
   "source": [
    "b) Now create a class \"Book\", which inherits from \"Item\". Create the following fields in the constructor:\n",
    "<ul>\n",
    "    <li>title (str)</li>\n",
    "    <li>author (str)</li>\n",
    "    <li>ISBN (int)</li>\n",
    "    <li>genre (str)</li>\n",
    "    <li>price (int)</li>\n",
    "    <li>warehouse (int) : 0 - Eindhoven, 1 - Tilburg</li>\n",
    "    <li>reviews (list[int])</li>\n",
    "</ul>\n",
    "Remember to create a readable representation of your class!"
   ]
  },
  {
   "cell_type": "code",
   "execution_count": null,
   "id": "28470bf6",
   "metadata": {},
   "outputs": [],
   "source": [
    "# Your code here"
   ]
  },
  {
   "cell_type": "markdown",
   "id": "4e7a3484",
   "metadata": {},
   "source": [
    "c) Read the values from \"books.csv\" into instances of class Book. Create a collection of these Book objects. The books of \"Author 1\" - \"Author 25\" are shipped from Eindhoven, while the rest is shipped from Tilburg."
   ]
  },
  {
   "cell_type": "code",
   "execution_count": null,
   "id": "fab70a61",
   "metadata": {},
   "outputs": [],
   "source": [
    "# Your code here"
   ]
  },
  {
   "cell_type": "markdown",
   "id": "dd0b85e0",
   "metadata": {},
   "source": [
    "d) Populate the book list with corresponding reviews. Each review has the ISBN of the book it refers to, as well as a numeric grade. You will find the info regarding reviews in \"reviews.csv\"."
   ]
  },
  {
   "cell_type": "code",
   "execution_count": null,
   "id": "f6579e51",
   "metadata": {},
   "outputs": [],
   "source": [
    "# Your code here"
   ]
  },
  {
   "cell_type": "markdown",
   "id": "bbdb5c20",
   "metadata": {},
   "source": [
    "e) Answer the following questions (create at least one function that returns the result for each of them). Try to use at least one self-defined class method.\n",
    "<ol>\n",
    "    <li>Which book(s) has the highest average grade?</li>\n",
    "    <li>Which author(s) has the highest average grade?</li>\n",
    "    <li>Which category(-ies) is the most expensive?</li>\n",
    "    <li>Which warehouse has the better cost to grade ratio?</li>\n",
    "</ol>"
   ]
  },
  {
   "cell_type": "code",
   "execution_count": null,
   "id": "1234a326",
   "metadata": {},
   "outputs": [],
   "source": [
    "# Your code here"
   ]
  },
  {
   "cell_type": "markdown",
   "id": "c7722bc3",
   "metadata": {},
   "source": [
    "f) Now, using the data from (e) create a descriptive analysis of the results. Which warehouse should the owners close?"
   ]
  },
  {
   "cell_type": "markdown",
   "id": "aa15107d",
   "metadata": {},
   "source": [
    "#### Your analysis:"
   ]
  },
  {
   "cell_type": "markdown",
   "id": "b067c43e",
   "metadata": {},
   "source": [
    "### 3. Algorithm analysis"
   ]
  },
  {
   "cell_type": "markdown",
   "id": "90d872fc",
   "metadata": {},
   "source": [
    "Take a look at algorithms (a) and (b). Answer the questions below their descriptions."
   ]
  },
  {
   "cell_type": "markdown",
   "id": "2d60fd35",
   "metadata": {},
   "source": [
    "#### Algorithm (a):"
   ]
  },
  {
   "cell_type": "code",
   "execution_count": null,
   "id": "ca064ac1",
   "metadata": {},
   "outputs": [],
   "source": [
    "def f(number, guess=1.0):\n",
    "    if(abs(guess*guess-number)<0.05):\n",
    "        return guess\n",
    "    return (number, guess+(number-guess*guess)/2)"
   ]
  },
  {
   "cell_type": "markdown",
   "id": "68948719",
   "metadata": {},
   "source": [
    "- What does this algorithm do? What is it's result?\n",
    "##### Answer: "
   ]
  },
  {
   "cell_type": "markdown",
   "id": "add3ba09",
   "metadata": {},
   "source": [
    "- Why does it stop working for certain values?\n",
    "##### Answer:"
   ]
  },
  {
   "cell_type": "markdown",
   "id": "86578c71",
   "metadata": {},
   "source": [
    "- Which programming concept(s) is used in this algorithm?\n",
    "##### Answer:"
   ]
  },
  {
   "cell_type": "markdown",
   "id": "7f469db1",
   "metadata": {},
   "source": [
    "- Write <b>typehints</b> and a <b>docstring</b> for this function!"
   ]
  },
  {
   "cell_type": "markdown",
   "id": "8a9bdb4c",
   "metadata": {},
   "source": [
    "#### Algorithm (b)"
   ]
  },
  {
   "cell_type": "code",
   "execution_count": null,
   "id": "09919ffe",
   "metadata": {},
   "outputs": [],
   "source": [
    "def mystery(A):\n",
    "    for i in range(3):\n",
    "        k = i\n",
    "        for j in range(i+1, len(A)):\n",
    "            if A[k] < A[j]:\n",
    "                k = j         \n",
    "        A[i], A[k] = A[k], A[i]\n",
    "    return A"
   ]
  },
  {
   "cell_type": "markdown",
   "id": "74b330b9",
   "metadata": {},
   "source": [
    "- What does this algorithm do? What is the result?\n",
    "##### Answer:"
   ]
  },
  {
   "cell_type": "markdown",
   "id": "80b655d7",
   "metadata": {},
   "source": [
    "- How could it be improved? What can be done to make it more readable?\n",
    "###### Answer:"
   ]
  },
  {
   "cell_type": "markdown",
   "id": "d7675dcc",
   "metadata": {},
   "source": [
    "- Design a set of doctests and add comments to the code."
   ]
  },
  {
   "cell_type": "markdown",
   "id": "1245ff08",
   "metadata": {},
   "source": [
    "### 4. General Programming"
   ]
  },
  {
   "cell_type": "markdown",
   "id": "a91bc31c",
   "metadata": {},
   "source": [
    "a) Write a function that sanitizes a given string and seperates it into a list of words (delimited by spaces). Make each element of the list start with a capital letter. Write 3 tests for this function."
   ]
  },
  {
   "cell_type": "code",
   "execution_count": null,
   "id": "8bfc4497",
   "metadata": {},
   "outputs": [],
   "source": [
    "# Your code here"
   ]
  },
  {
   "cell_type": "markdown",
   "id": "96045518",
   "metadata": {},
   "source": [
    "b) Implement a stack. A stack is a data structure where the last inputted element is the first element to be read and removed.\n",
    "Example of operations on a stack:\n",
    "- empty list -> []\n",
    "- add 2 -> [2]\n",
    "- add 5 -> [2,5]\n",
    "- read -> [2]\n",
    "- add 6 -> [2,6]\n",
    "- add 10 -> [2,6,10]\n",
    "- read -> [2,6]\n",
    "\n",
    "Given a set of operations (inputted as a string, denoted by 'a' - add element and 'r' - read/remove element) determine the final state of the stack.\n",
    "\n",
    "Example of input: \"a3ra4a7a2rr\" (add 3, read, add 4, add 7, add 2, read, read) -> [4]"
   ]
  },
  {
   "cell_type": "code",
   "execution_count": null,
   "id": "e22a3455",
   "metadata": {},
   "outputs": [],
   "source": [
    "# Your code here"
   ]
  },
  {
   "cell_type": "markdown",
   "id": "07a9b20d",
   "metadata": {},
   "source": [
    "c) Generate 15 tuples where each tuple consists of a random number from the range [0, 100] and a second number, which is the index (so it indicates how many tuples appeared before). Use a generator.\n",
    "\n",
    "For size 2 the result would be: ((55, 0), (12, 1))."
   ]
  },
  {
   "cell_type": "code",
   "execution_count": null,
   "id": "2d305a6b",
   "metadata": {},
   "outputs": [],
   "source": [
    "# Your code here"
   ]
  },
  {
   "cell_type": "markdown",
   "id": "b97afce0",
   "metadata": {},
   "source": [
    "Now print each element twice. Why doesn't that work? What's wrong?\n",
    "##### Answer:"
   ]
  },
  {
   "cell_type": "markdown",
   "id": "28c4f372",
   "metadata": {},
   "source": [
    "### 5. Theory"
   ]
  },
  {
   "cell_type": "markdown",
   "id": "b15a35a8",
   "metadata": {},
   "source": [
    "a) What are the main differences between sets, lists, dictionaries and tuples? Compare these DS and give at least one unique feature of each.\n",
    "##### Answer:"
   ]
  },
  {
   "cell_type": "markdown",
   "id": "dc0a4450",
   "metadata": {},
   "source": [
    "b) Describe what the methods zip and enumerate do.\n",
    "##### Answer:"
   ]
  },
  {
   "cell_type": "markdown",
   "id": "d22c35fb",
   "metadata": {},
   "source": [
    "c) Describe how a class is structured - which 2 methods are often used, which values differ between instances and which ones remain the same?\n",
    "##### Answer:"
   ]
  },
  {
   "cell_type": "markdown",
   "id": "c0977289",
   "metadata": {},
   "source": [
    "d) What happens when one class inherits from another but both have a function with the same name? What about the other functions?\n",
    "##### Answer:"
   ]
  }
 ],
 "metadata": {
  "kernelspec": {
   "display_name": "Python 3",
   "language": "python",
   "name": "python3"
  },
  "language_info": {
   "codemirror_mode": {
    "name": "ipython",
    "version": 3
   },
   "file_extension": ".py",
   "mimetype": "text/x-python",
   "name": "python",
   "nbconvert_exporter": "python",
   "pygments_lexer": "ipython3",
   "version": "3.10.1"
  }
 },
 "nbformat": 4,
 "nbformat_minor": 5
}
